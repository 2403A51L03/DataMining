{
  "nbformat": 4,
  "nbformat_minor": 0,
  "metadata": {
    "colab": {
      "provenance": [],
      "include_colab_link": true
    },
    "kernelspec": {
      "name": "python3",
      "display_name": "Python 3"
    },
    "language_info": {
      "name": "python"
    }
  },
  "cells": [
    {
      "cell_type": "markdown",
      "metadata": {
        "id": "view-in-github",
        "colab_type": "text"
      },
      "source": [
        "<a href=\"https://colab.research.google.com/github/2403A51L03/DataMining/blob/main/Lab6.ipynb\" target=\"_parent\"><img src=\"https://colab.research.google.com/assets/colab-badge.svg\" alt=\"Open In Colab\"/></a>"
      ]
    },
    {
      "cell_type": "markdown",
      "source": [
        "Lab_6\n",
        "\n",
        "Q1-Encoding methods--\n",
        "\n",
        "1)label encoder\n",
        "\n",
        "2)one hot encoder"
      ],
      "metadata": {
        "id": "Jskef8XwoQ1v"
      }
    },
    {
      "cell_type": "code",
      "execution_count": null,
      "metadata": {
        "id": "4gecjCWJT2mw"
      },
      "outputs": [],
      "source": [
        "import pandas as pd\n",
        "from sklearn.preprocessing import LabelEncoder,OneHotEncoder"
      ]
    },
    {
      "cell_type": "code",
      "source": [
        "data={'Category':['A','B','C','D','A','B','C','D',]}\n",
        "df=pd.DataFrame(data)"
      ],
      "metadata": {
        "id": "kTWKV8WpUGo1"
      },
      "execution_count": null,
      "outputs": []
    },
    {
      "cell_type": "code",
      "source": [
        "print(df)"
      ],
      "metadata": {
        "colab": {
          "base_uri": "https://localhost:8080/"
        },
        "id": "F0zSg7JDZPu5",
        "outputId": "6e09cbda-d22e-4712-9f2b-bca8d142c2f1"
      },
      "execution_count": null,
      "outputs": [
        {
          "output_type": "stream",
          "name": "stdout",
          "text": [
            "  Category\n",
            "0        A\n",
            "1        B\n",
            "2        C\n",
            "3        D\n",
            "4        A\n",
            "5        B\n",
            "6        C\n",
            "7        D\n"
          ]
        }
      ]
    },
    {
      "cell_type": "code",
      "source": [
        "label_encoder=LabelEncoder()\n",
        "df['Label_Encoded']=label_encoder.fit_transform(df['Category'])"
      ],
      "metadata": {
        "id": "FoHp5eDLUGvg"
      },
      "execution_count": null,
      "outputs": []
    },
    {
      "cell_type": "code",
      "source": [
        "print(df)"
      ],
      "metadata": {
        "colab": {
          "base_uri": "https://localhost:8080/"
        },
        "id": "-pYzisuqZe7B",
        "outputId": "fe9bf081-26bd-4672-94c2-ef63d80e741f"
      },
      "execution_count": null,
      "outputs": [
        {
          "output_type": "stream",
          "name": "stdout",
          "text": [
            "  Category  Label_Encoded\n",
            "0        A              0\n",
            "1        B              1\n",
            "2        C              2\n",
            "3        D              3\n",
            "4        A              0\n",
            "5        B              1\n",
            "6        C              2\n",
            "7        D              3\n"
          ]
        }
      ]
    },
    {
      "cell_type": "code",
      "source": [
        "one_hot_encoded=pd.get_dummies(df['Category'],prefix='Category')\n",
        "print(one_hot_encoded)"
      ],
      "metadata": {
        "colab": {
          "base_uri": "https://localhost:8080/"
        },
        "id": "v32HjE0OUG2K",
        "outputId": "171c9212-647a-4921-ae20-9a2f882820fe"
      },
      "execution_count": null,
      "outputs": [
        {
          "output_type": "stream",
          "name": "stdout",
          "text": [
            "   Category_A  Category_B  Category_C  Category_D\n",
            "0        True       False       False       False\n",
            "1       False        True       False       False\n",
            "2       False       False        True       False\n",
            "3       False       False       False        True\n",
            "4        True       False       False       False\n",
            "5       False        True       False       False\n",
            "6       False       False        True       False\n",
            "7       False       False       False        True\n"
          ]
        }
      ]
    },
    {
      "cell_type": "code",
      "source": [
        "df=pd.concat([df,one_hot_encoded],axis=1)\n",
        "print(df)"
      ],
      "metadata": {
        "colab": {
          "base_uri": "https://localhost:8080/"
        },
        "id": "YGNCHmMcaRU_",
        "outputId": "ca853515-6ac1-4391-c7fe-10cad4251e40"
      },
      "execution_count": null,
      "outputs": [
        {
          "output_type": "stream",
          "name": "stdout",
          "text": [
            "  Category  Label_Encoded  Category_A  Category_B  Category_C  Category_D\n",
            "0        A              0        True       False       False       False\n",
            "1        B              1       False        True       False       False\n",
            "2        C              2       False       False        True       False\n",
            "3        D              3       False       False       False        True\n",
            "4        A              0        True       False       False       False\n",
            "5        B              1       False        True       False       False\n",
            "6        C              2       False       False        True       False\n",
            "7        D              3       False       False       False        True\n"
          ]
        }
      ]
    },
    {
      "cell_type": "code",
      "source": [],
      "metadata": {
        "id": "Y9XVIMv6UHCI"
      },
      "execution_count": null,
      "outputs": []
    },
    {
      "cell_type": "markdown",
      "source": [
        "Q-2\n",
        "\n",
        "datetime library\n",
        "\n",
        "calculated age from current year - DOB year"
      ],
      "metadata": {
        "id": "nDIk9-cLoqXA"
      }
    },
    {
      "cell_type": "code",
      "source": [],
      "metadata": {
        "id": "tlVH-qj_UHH4"
      },
      "execution_count": null,
      "outputs": []
    },
    {
      "cell_type": "code",
      "source": [],
      "metadata": {
        "id": "DQQBCRBkoFLg"
      },
      "execution_count": null,
      "outputs": []
    },
    {
      "cell_type": "code",
      "source": [
        "from datetime import datetime"
      ],
      "metadata": {
        "id": "Z8JCQ0TnUHNK"
      },
      "execution_count": null,
      "outputs": []
    },
    {
      "cell_type": "code",
      "source": [
        "data={'Name':['Sathwik','Sai Kumar'],'DOB':['2004-12-15','2004-09-15']}\n",
        "df=pd.DataFrame(data)\n",
        "print(df)"
      ],
      "metadata": {
        "colab": {
          "base_uri": "https://localhost:8080/"
        },
        "id": "MnEuNSubUHTE",
        "outputId": "bd47e530-4d75-44b9-953d-6eac315ca359"
      },
      "execution_count": null,
      "outputs": [
        {
          "output_type": "stream",
          "name": "stdout",
          "text": [
            "        Name         DOB\n",
            "0    Sathwik  2004-12-15\n",
            "1  Sai Kumar  2004-09-15\n"
          ]
        }
      ]
    },
    {
      "cell_type": "code",
      "source": [
        "df['DOB']=pd.to_datetime(df['DOB'])\n",
        "print(df)"
      ],
      "metadata": {
        "colab": {
          "base_uri": "https://localhost:8080/"
        },
        "id": "goWJGjEHeUA3",
        "outputId": "4d11485d-0b35-4200-b7e3-6af7df784764"
      },
      "execution_count": null,
      "outputs": [
        {
          "output_type": "stream",
          "name": "stdout",
          "text": [
            "        Name        DOB\n",
            "0    Sathwik 2004-12-15\n",
            "1  Sai Kumar 2004-09-15\n"
          ]
        }
      ]
    },
    {
      "cell_type": "code",
      "source": [
        "current=datetime.now().year\n",
        "df['Age']=current-df['DOB'].dt.year\n",
        "print(df)"
      ],
      "metadata": {
        "colab": {
          "base_uri": "https://localhost:8080/"
        },
        "id": "8xr0T4zgf-nO",
        "outputId": "907d9b9f-95a7-4d8c-e8fc-5ee7092835ee"
      },
      "execution_count": null,
      "outputs": [
        {
          "output_type": "stream",
          "name": "stdout",
          "text": [
            "        Name        DOB  Age\n",
            "0    Sathwik 2004-12-15   21\n",
            "1  Sai Kumar 2004-09-15   21\n"
          ]
        }
      ]
    },
    {
      "cell_type": "code",
      "source": [],
      "metadata": {
        "id": "NNiI7XmqkBeY"
      },
      "execution_count": null,
      "outputs": []
    },
    {
      "cell_type": "code",
      "source": [],
      "metadata": {
        "id": "7rhBGHeEkBlk"
      },
      "execution_count": null,
      "outputs": []
    },
    {
      "cell_type": "code",
      "source": [],
      "metadata": {
        "id": "I-DWNKC2kBv1"
      },
      "execution_count": null,
      "outputs": []
    },
    {
      "cell_type": "markdown",
      "source": [
        "Q-3\n",
        "\n",
        "Groupby & pivot table"
      ],
      "metadata": {
        "id": "rdYhMo4Bo_6q"
      }
    },
    {
      "cell_type": "code",
      "source": [
        "data={'Category':['A','A','B','B','C'],'Value':[10,20,10,30,40]}\n",
        "df=pd.DataFrame(data)\n",
        "print(df)"
      ],
      "metadata": {
        "colab": {
          "base_uri": "https://localhost:8080/"
        },
        "id": "2PcPUEZ3kDPa",
        "outputId": "717b892f-2be4-4c38-b96d-eb191e5be9c3"
      },
      "execution_count": null,
      "outputs": [
        {
          "output_type": "stream",
          "name": "stdout",
          "text": [
            "  Category  Value\n",
            "0        A     10\n",
            "1        A     20\n",
            "2        B     10\n",
            "3        B     30\n",
            "4        C     40\n"
          ]
        }
      ]
    },
    {
      "cell_type": "code",
      "source": [
        "grouped=df.groupby('Category').agg({'Value':['sum','mean']})\n",
        "print(\"Grouped Data:\\n\",grouped)"
      ],
      "metadata": {
        "colab": {
          "base_uri": "https://localhost:8080/"
        },
        "id": "2q4ReJ86ktwi",
        "outputId": "d057ada7-da14-4cdb-87de-85378d51d229"
      },
      "execution_count": null,
      "outputs": [
        {
          "output_type": "stream",
          "name": "stdout",
          "text": [
            "Grouped Data:\n",
            "          Value      \n",
            "           sum  mean\n",
            "Category            \n",
            "A           30  15.0\n",
            "B           40  20.0\n",
            "C           40  40.0\n"
          ]
        }
      ]
    },
    {
      "cell_type": "code",
      "source": [
        "pivot=df.pivot_table(index='Category',values='Value',aggfunc=['sum','mean'])\n",
        "print(\"\\nPivot Table:\\n\",pivot)"
      ],
      "metadata": {
        "colab": {
          "base_uri": "https://localhost:8080/"
        },
        "id": "Xfuq308hlNTM",
        "outputId": "b9a5fe0a-8d1a-494d-ae6a-283347e4f06d"
      },
      "execution_count": null,
      "outputs": [
        {
          "output_type": "stream",
          "name": "stdout",
          "text": [
            "\n",
            "Pivot Table:\n",
            "            sum  mean\n",
            "         Value Value\n",
            "Category            \n",
            "A           30  15.0\n",
            "B           40  20.0\n",
            "C           40  40.0\n"
          ]
        }
      ]
    }
  ]
}